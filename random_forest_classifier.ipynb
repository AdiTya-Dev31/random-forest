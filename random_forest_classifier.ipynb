{
 "cells": [
  {
   "cell_type": "code",
   "execution_count": 1,
   "metadata": {
    "collapsed": true
   },
   "outputs": [],
   "source": [
    "import numpy as np\n",
    "import matplotlib.pyplot as plt\n",
    "import math"
   ]
  },
  {
   "cell_type": "code",
   "execution_count": 62,
   "metadata": {
    "collapsed": true
   },
   "outputs": [],
   "source": [
    "f= open(\"./data/gisette_train.data\")\n",
    "data=[]\n",
    "for row in f.readlines():\n",
    "    data.append((row.strip()).split(\" \"))\n",
    "f.close()"
   ]
  },
  {
   "cell_type": "code",
   "execution_count": 63,
   "metadata": {
    "collapsed": true
   },
   "outputs": [],
   "source": [
    "f= open(\"./data/gisette_train.labels\")\n",
    "classes=[]\n",
    "for row in f.readlines():\n",
    "    classes.append((row.strip()).split(\" \"))\n",
    "f.close()"
   ]
  },
  {
   "cell_type": "code",
   "execution_count": 64,
   "metadata": {
    "collapsed": false
   },
   "outputs": [],
   "source": [
    "data=np.array(data).astype(int)\n",
    "classes= np.array(classes).astype(int)\n",
    "classes=classes[:,0]"
   ]
  },
  {
   "cell_type": "code",
   "execution_count": 5,
   "metadata": {
    "collapsed": true
   },
   "outputs": [],
   "source": [
    "def unique_rows(a):\n",
    "    a = np.ascontiguousarray(a)\n",
    "    unique_a = np.unique(a.view([('', a.dtype)]*a.shape[1]))\n",
    "    return unique_a.view(a.dtype).reshape((unique_a.shape[0], a.shape[1]))"
   ]
  },
  {
   "cell_type": "code",
   "execution_count": 6,
   "metadata": {
    "collapsed": false
   },
   "outputs": [],
   "source": [
    "class node(object):\n",
    "    def __init__(self, is_leaf, split_var, split_val, label, children):\n",
    "        self.is_leaf=is_leaf\n",
    "        self.split_var=split_var\n",
    "        self.label=label\n",
    "        self.children=children\n",
    "        self.split_val=split_val\n",
    "        "
   ]
  },
  {
   "cell_type": "code",
   "execution_count": 25,
   "metadata": {
    "collapsed": false
   },
   "outputs": [],
   "source": [
    "def make_Tree(data_idx, feature_idx):\n",
    "    global data, classes, features, data_len\n",
    "    \n",
    "    if len(data[data_idx]) == 0 :\n",
    "        print(data_idx)\n",
    "        return node(None,None,None,None,None)\n",
    "    \n",
    "    if len(np.unique(classes[data_idx])) == 1 :\n",
    "        return node(True, None, None, classes[data_idx][0], None)\n",
    "    \n",
    "    if len(unique_rows( data[data_idx.reshape((len(data_idx),1)), feature_idx] )) == 1 :\n",
    "        (y,c) = np.unique(classes[data_idx],return_counts=True)\n",
    "        return node(True, None, None, y[np.argmax(c)], None)\n",
    "    \n",
    "    sY=classes[data_idx]\n",
    "    uY= np.unique(sY)\n",
    "    info_parent=0.0    \n",
    "    for y in uY:\n",
    "        info_parent = info_parent + (float(len(sY[sY==y]))/len(sY))**2    \n",
    "    info_parent=1-info_parent\n",
    "    \n",
    "    if info_parent < entropy_threshold :\n",
    "        (y,c) = np.unique(classes[data_idx],return_counts=True)\n",
    "        return node(True, None, None, y[np.argmax(c)], None)\n",
    "    del sY\n",
    "    del uY\n",
    "    del info_parent\n",
    "\n",
    "    info_child = np.zeros((features,), dtype=float)\n",
    "    split_value = np.zeros((features,), dtype=int)\n",
    "    \n",
    "    for j in range(features):\n",
    "        uX = np.unique(data[data_idx.reshape((len(data_idx),1)) ,feature_idx[j]])\n",
    "        \n",
    "        if len(uX) > split_value_thresholds:\n",
    "            uX = np.random.choice(uX, size=10, replace=False)\n",
    "            \n",
    "        temp_value = np.zeros((len(uX),), dtype=float)\n",
    "        \n",
    "        for x in range(len(uX)):\n",
    "            indices=data[data_idx.reshape((len(data_idx),1)),feature_idx[j]]<=uX[x]\n",
    "            sY=classes[data_idx]\n",
    "            sY= sY[indices[:,0]]\n",
    "            uY= np.unique(sY)\n",
    "            temp_info=0.0\n",
    "            for y in uY:\n",
    "                temp_info += (float(len(sY[sY==y]))/len(sY))**2\n",
    "            temp_info=1-temp_info\n",
    "            temp_value[x] += len(sY)*(temp_info/len(data_idx))\n",
    "            \n",
    "            indices=data[data_idx.reshape((len(data_idx),1)),feature_idx[j]]>uX[x]\n",
    "            sY=classes[data_idx]\n",
    "            sY= sY[indices[:,0]]\n",
    "            uY= np.unique(sY)\n",
    "            temp_info=0.0\n",
    "            for y in uY:\n",
    "                temp_info += (float(len(sY[sY==y]))/len(sY))**2\n",
    "            temp_info=1-temp_info\n",
    "            temp_value[x] += len(sY)*(temp_info/len(data_idx))\n",
    "        info_child[j] = np.min(temp_value)\n",
    "        split_value[j] = uX[np.argmin(temp_value)]\n",
    "        del temp_value\n",
    "        \n",
    "    optimal_split= feature_idx[np.argmin(info_child)]\n",
    "    split_label= split_value[np.argmin(info_child)]\n",
    "    \n",
    "    del info_child\n",
    "    del split_value\n",
    "    \n",
    "    children=[]\n",
    "    temp_idx = np.where(data[:,optimal_split] <= split_label)\n",
    "    mask = np.in1d(  data_idx, temp_idx  )\n",
    "    temp_data_idx = data_idx[mask]\n",
    "    \n",
    "    child = make_Tree(temp_data_idx,feature_idx)\n",
    "    children.append(child)\n",
    "    \n",
    "    temp_idx = np.where(data[:,optimal_split] > split_label)\n",
    "    mask = np.in1d(  data_idx, temp_idx  )\n",
    "    temp_data_idx = data_idx[mask]\n",
    "    \n",
    "    child = make_Tree(temp_data_idx,feature_idx)\n",
    "    children.append(child)\n",
    "\n",
    "    return node(False, optimal_split,split_label,None,children)"
   ]
  },
  {
   "cell_type": "code",
   "execution_count": 9,
   "metadata": {
    "collapsed": false
   },
   "outputs": [],
   "source": [
    "\n",
    "def pred_tree(toor, X):\n",
    "    Y=[]\n",
    "    for i in range(len(X)):\n",
    "        temp=toor\n",
    "        while temp.is_leaf == False:\n",
    "            if X[i,temp.split_var]<= temp.split_val:\n",
    "                temp= temp.children[0]\n",
    "            else:\n",
    "                temp = temp.children[1]\n",
    "        Y.append(temp.label)\n",
    "    return Y"
   ]
  },
  {
   "cell_type": "code",
   "execution_count": 10,
   "metadata": {
    "collapsed": true
   },
   "outputs": [],
   "source": [
    "def classification(trees, data):\n",
    "    t_prediction = np.zeros((len(data), len(trees))).astype(int)\n",
    "    prediction = np.zeros((len(data),))\n",
    "    for t in range(len(trees)):\n",
    "        t_prediction[:,t]  =  np.array(pred_tree(trees[t],data))\n",
    "    for t in range(len(data)):\n",
    "        (y,c) = np.unique(t_prediction[t,:],return_counts=True)\n",
    "        prediction[t] = y[np.argmax(c)]\n",
    "    return prediction"
   ]
  },
  {
   "cell_type": "code",
   "execution_count": 40,
   "metadata": {
    "collapsed": false,
    "scrolled": true
   },
   "outputs": [],
   "source": [
    "data_len= len(data)\n",
    "feature_len= len(data[0])\n",
    "\n",
    "entropy_threshold = 0.01\n",
    "split_value_thresholds = 100\n",
    "\n",
    "root_list=[]\n",
    "trees= 100\n",
    "features=int(math.floor(math.sqrt(feature_len)))\n",
    "for t in range(trees):\n",
    "    feature_idx = np.random.choice(range(feature_len),size=features,replace=False)\n",
    "    data_idx = np.random.choice(range(data_len), size=data_len,replace=True)\n",
    "    root_list.append(make_Tree(data_idx,feature_idx))"
   ]
  },
  {
   "cell_type": "code",
   "execution_count": 65,
   "metadata": {
    "collapsed": false
   },
   "outputs": [],
   "source": [
    "data_len= len(data)\n",
    "accuracy=[]\n",
    "for t in range(trees):\n",
    "    prediction =classification(root_list[:t+1], data)\n",
    "    (y,c) =np.unique(prediction==classes,return_counts=True)\n",
    "    if len(c)==1:\n",
    "        accuracy.append(float(c[0])/data_len)\n",
    "    else:\n",
    "        accuracy.append(float(c[1])/data_len)\n",
    "    del y\n",
    "    del c"
   ]
  },
  {
   "cell_type": "code",
   "execution_count": 46,
   "metadata": {
    "collapsed": false
   },
   "outputs": [],
   "source": [
    "plt.plot(range(1,trees+1),accuracy, \"r--\")\n",
    "plt.xlabel(\"Random Forest Size\")\n",
    "plt.ylabel(\"Train Accuracy\")\n",
    "plt.title(\"Random Forest with entropy threshold: 0.01\")          \n",
    "plt.show()"
   ]
  },
  {
   "cell_type": "code",
   "execution_count": 47,
   "metadata": {
    "collapsed": true
   },
   "outputs": [],
   "source": [
    "del data\n",
    "del classes"
   ]
  },
  {
   "cell_type": "code",
   "execution_count": 48,
   "metadata": {
    "collapsed": true
   },
   "outputs": [],
   "source": [
    "f= open(\"./data/gisette_valid.data\")\n",
    "data=[]\n",
    "for row in f.readlines():\n",
    "    data.append((row.strip()).split(\" \"))\n",
    "f.close()"
   ]
  },
  {
   "cell_type": "code",
   "execution_count": 49,
   "metadata": {
    "collapsed": true
   },
   "outputs": [],
   "source": [
    "f= open(\"./data/gisette_valid.labels\")\n",
    "classes=[]\n",
    "for row in f.readlines():\n",
    "    classes.append((row.strip()).split(\" \"))\n",
    "f.close()"
   ]
  },
  {
   "cell_type": "code",
   "execution_count": 50,
   "metadata": {
    "collapsed": true
   },
   "outputs": [],
   "source": [
    "data=np.array(data).astype(int)\n",
    "classes= np.array(classes).astype(int)\n",
    "classes=classes[:,0]"
   ]
  },
  {
   "cell_type": "code",
   "execution_count": 59,
   "metadata": {
    "collapsed": true
   },
   "outputs": [],
   "source": [
    "accuracy=[]\n",
    "data_len= len(data)\n",
    "for t in range(trees):\n",
    "    prediction =classification(root_list[:t+1], data)\n",
    "    (y,c) =np.unique(prediction==classes,return_counts=True)\n",
    "    if len(c)==1:\n",
    "        accuracy.append(float(c[0])/data_len)\n",
    "    else:\n",
    "        accuracy.append(float(c[1])/data_len)\n",
    "    del y\n",
    "    del c"
   ]
  },
  {
   "cell_type": "code",
   "execution_count": 60,
   "metadata": {
    "collapsed": true
   },
   "outputs": [],
   "source": [
    "plt.plot(range(1,trees+1),accuracy, \"r--\")\n",
    "plt.xlabel(\"Random Forest Size\")\n",
    "plt.ylabel(\"Validation Accuracy\")\n",
    "plt.title(\"Random Forest with entropy threshold: 0.01\")          \n",
    "plt.show()"
   ]
  },
  {
   "cell_type": "code",
   "execution_count": 69,
   "metadata": {
    "collapsed": true
   },
   "outputs": [],
   "source": [
    "del data\n",
    "del classes"
   ]
  },
  {
   "cell_type": "code",
   "execution_count": 70,
   "metadata": {
    "collapsed": false
   },
   "outputs": [],
   "source": [
    "del root_list"
   ]
  },
  {
   "cell_type": "code",
   "execution_count": null,
   "metadata": {
    "collapsed": true
   },
   "outputs": [],
   "source": []
  }
 ],
 "metadata": {
  "kernelspec": {
   "display_name": "Python 2",
   "language": "python",
   "name": "python2"
  },
  "language_info": {
   "codemirror_mode": {
    "name": "ipython",
    "version": 2
   },
   "file_extension": ".py",
   "mimetype": "text/x-python",
   "name": "python",
   "nbconvert_exporter": "python",
   "pygments_lexer": "ipython2",
   "version": "2.7.11"
  }
 },
 "nbformat": 4,
 "nbformat_minor": 0
}
